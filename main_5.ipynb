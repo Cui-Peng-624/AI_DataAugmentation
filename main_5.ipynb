{
 "cells": [
  {
   "cell_type": "code",
   "execution_count": 1,
   "metadata": {},
   "outputs": [],
   "source": [
    "from 整合版本1014 import main"
   ]
  },
  {
   "cell_type": "code",
   "execution_count": 2,
   "metadata": {},
   "outputs": [],
   "source": [
    "import re\n",
    "\n",
    "def extract_categories(filename):\n",
    "    # 使用正则表达式匹配文件名格式\n",
    "    match = re.match(r'(\\d+-.+?) - (.+)', filename)\n",
    "    if match:\n",
    "        main_category = match.group(1).strip()\n",
    "        sub_category = match.group(2).strip()\n",
    "        return main_category, sub_category\n",
    "    else:\n",
    "        return None, None"
   ]
  },
  {
   "cell_type": "code",
   "execution_count": 9,
   "metadata": {},
   "outputs": [
    {
     "name": "stdout",
     "output_type": "stream",
     "text": [
      "Generated valid data.\n",
      "扩展后的数据已保存到 扩充后的数据集/16-新材料/16-新材料 - 能源消费_expanded.csv。当前总行数为 15，继续生成数据...\n",
      "Generated valid data.\n",
      "扩展后的数据已保存到 扩充后的数据集/16-新材料/16-新材料 - 能源消费_expanded.csv。当前总行数为 25，继续生成数据...\n",
      "Generated valid data.\n",
      "扩展后的数据已保存到 扩充后的数据集/16-新材料/16-新材料 - 能源消费_expanded.csv。当前总行数为 35，继续生成数据...\n",
      "Generated valid data.\n",
      "扩展后的数据已保存到 扩充后的数据集/16-新材料/16-新材料 - 能源消费_expanded.csv。当前总行数为 45，继续生成数据...\n",
      "Generated valid data.\n",
      "扩展后的数据已保存到 扩充后的数据集/16-新材料/16-新材料 - 能源消费_expanded.csv。当前总行数为 55，继续生成数据...\n",
      "Generated valid data.\n",
      "扩展后的数据已保存到 扩充后的数据集/16-新材料/16-新材料 - 能源消费_expanded.csv。当前总行数为 65，继续生成数据...\n",
      "Generated valid data.\n",
      "扩展后的数据已保存到 扩充后的数据集/16-新材料/16-新材料 - 能源消费_expanded.csv。当前总行数为 75，继续生成数据...\n",
      "Generated valid data.\n",
      "扩展后的数据已保存到 扩充后的数据集/16-新材料/16-新材料 - 能源消费_expanded.csv。当前总行数为 85，继续生成数据...\n",
      "Generated valid data.\n",
      "扩展后的数据已保存到 扩充后的数据集/16-新材料/16-新材料 - 能源消费_expanded.csv。当前总行数为 95，继续生成数据...\n",
      "Generated valid data.\n",
      "扩展后的数据已保存到 扩充后的数据集/16-新材料/16-新材料 - 能源消费_expanded.csv。当前总行数为 105，继续生成数据...\n"
     ]
    }
   ],
   "source": [
    "# 示例调用\n",
    "if __name__ == \"__main__\":\n",
    "    file_name = \"16-新材料 - 能源消费\" # 不需要带“.csv”后缀\n",
    "\n",
    "    main_category, sub_category = extract_categories(file_name)\n",
    "    file_path = f\"原始数据集/{main_category}/{file_name}.csv\"\n",
    "    save_path = f\"扩充后的数据集/{main_category}/{file_name}_expanded.csv\"\n",
    "    save_invalid_path = f\"invalid_outputs/{main_category}/{sub_category}.txt\"\n",
    "\n",
    "    num_entries = 10\n",
    "    custom_requirements = \"\"\n",
    "    required_total_rows = 100\n",
    "\n",
    "    # 执行主流程\n",
    "    main(file_path, save_path, main_category, sub_category, num_entries, custom_requirements, required_total_rows, save_invalid_path)"
   ]
  },
  {
   "cell_type": "code",
   "execution_count": null,
   "metadata": {},
   "outputs": [],
   "source": []
  },
  {
   "cell_type": "code",
   "execution_count": null,
   "metadata": {},
   "outputs": [],
   "source": []
  },
  {
   "cell_type": "code",
   "execution_count": null,
   "metadata": {},
   "outputs": [],
   "source": []
  }
 ],
 "metadata": {
  "kernelspec": {
   "display_name": "Python 3",
   "language": "python",
   "name": "python3"
  },
  "language_info": {
   "codemirror_mode": {
    "name": "ipython",
    "version": 3
   },
   "file_extension": ".py",
   "mimetype": "text/x-python",
   "name": "python",
   "nbconvert_exporter": "python",
   "pygments_lexer": "ipython3",
   "version": "3.12.7"
  }
 },
 "nbformat": 4,
 "nbformat_minor": 2
}
