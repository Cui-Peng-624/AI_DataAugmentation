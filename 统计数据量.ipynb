{
 "cells": [
  {
   "cell_type": "code",
   "execution_count": 16,
   "metadata": {},
   "outputs": [],
   "source": [
    "import os\n",
    "import csv"
   ]
  },
  {
   "cell_type": "code",
   "execution_count": 17,
   "metadata": {},
   "outputs": [],
   "source": [
    "def count_csv_lines(root_folder):\n",
    "    total_lines = 0\n",
    "    folder_lines = {}  # 用于存储每个子文件夹的行数\n",
    "\n",
    "    # 遍历根文件夹\n",
    "    for dirpath, dirnames, filenames in os.walk(root_folder):\n",
    "        folder_lines[dirpath] = 0  # 初始化每个子文件夹的行数\n",
    "        \n",
    "        for filename in filenames:\n",
    "            if filename.endswith('.csv'):\n",
    "                file_path = os.path.join(dirpath, filename)\n",
    "                try:\n",
    "                    with open(file_path, 'r', encoding='utf-8') as csvfile:\n",
    "                        reader = csv.reader(csvfile)\n",
    "                        # 减去1是为了不计算表头\n",
    "                        lines = sum(1 for row in reader) - 1\n",
    "                        total_lines += lines\n",
    "                        folder_lines[dirpath] += lines  # 累加到当前子文件夹\n",
    "                        # print(f\"文件 {file_path} 有 {lines} 行\")\n",
    "                except Exception as e:\n",
    "                    print(f\"处理文件 {file_path} 时出错: {str(e)}\")\n",
    "\n",
    "    return total_lines, folder_lines"
   ]
  },
  {
   "cell_type": "code",
   "execution_count": 18,
   "metadata": {},
   "outputs": [
    {
     "name": "stdout",
     "output_type": "stream",
     "text": [
      "所有CSV文件的总行数（不包括表头）：328835\n",
      "每个子文件夹的CSV文件行数：\n",
      "1029扩充后的数据集: 0 行\n",
      "1029扩充后的数据集\\1-网络与通信: 33785 行\n",
      "1029扩充后的数据集\\10-智能机器人: 36157 行\n",
      "1029扩充后的数据集\\11-激光与增材制造: 30655 行\n",
      "1029扩充后的数据集\\2-半导体与集成电路: 26696 行\n",
      "1029扩充后的数据集\\3-超高清视频显示: 31275 行\n",
      "1029扩充后的数据集\\4-智能终端: 20155 行\n",
      "1029扩充后的数据集\\5-智能传感器: 25562 行\n",
      "1029扩充后的数据集\\6-软件与信息服务: 28442 行\n",
      "1029扩充后的数据集\\7-数字创意: 31861 行\n",
      "1029扩充后的数据集\\8-现代时尚: 27857 行\n",
      "1029扩充后的数据集\\9-工业母机: 36390 行\n"
     ]
    }
   ],
   "source": [
    "# 使用示例\n",
    "root_folder = \"1029扩充后的数据集\"\n",
    "total_lines, folder_lines = count_csv_lines(root_folder)\n",
    "\n",
    "print(f\"所有CSV文件的总行数（不包括表头）：{total_lines}\")\n",
    "print(\"每个子文件夹的CSV文件行数：\")\n",
    "for folder, lines in folder_lines.items():\n",
    "    print(f\"{folder}: {lines} 行\")"
   ]
  },
  {
   "cell_type": "code",
   "execution_count": null,
   "metadata": {},
   "outputs": [],
   "source": []
  }
 ],
 "metadata": {
  "kernelspec": {
   "display_name": "Python 3",
   "language": "python",
   "name": "python3"
  },
  "language_info": {
   "codemirror_mode": {
    "name": "ipython",
    "version": 3
   },
   "file_extension": ".py",
   "mimetype": "text/x-python",
   "name": "python",
   "nbconvert_exporter": "python",
   "pygments_lexer": "ipython3",
   "version": "3.12.7"
  }
 },
 "nbformat": 4,
 "nbformat_minor": 2
}
