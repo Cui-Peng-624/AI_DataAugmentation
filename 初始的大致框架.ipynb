{
 "cells": [
  {
   "cell_type": "code",
   "execution_count": 4,
   "metadata": {},
   "outputs": [],
   "source": [
    "import os\n",
    "import pandas as pd\n",
    "import openai\n",
    "\n",
    "# 设置代理环境（如果需要）\n",
    "os.environ[\"http_proxy\"] = \"127.0.0.1:7890\"\n",
    "os.environ[\"https_proxy\"] = \"127.0.0.1:7890\""
   ]
  },
  {
   "cell_type": "code",
   "execution_count": 5,
   "metadata": {},
   "outputs": [],
   "source": [
    "# config.py\n",
    "import os\n",
    "from dotenv import load_dotenv\n",
    "\n",
    "# 加载 .env 文件\n",
    "load_dotenv()\n",
    "\n",
    "# 读取\n",
    "ZetaTechs_api_key = os.getenv('ZetaTechs_api_key')\n",
    "ZetaTechs_api_base = os.getenv('ZetaTechs_api_base')"
   ]
  },
  {
   "cell_type": "code",
   "execution_count": 6,
   "metadata": {},
   "outputs": [
    {
     "name": "stdout",
     "output_type": "stream",
     "text": [
      "ChatCompletionMessage(content='Hello! How can I assist you today?', refusal=None, role='assistant', function_call=None, tool_calls=None)\n"
     ]
    }
   ],
   "source": [
    "# test connection\n",
    "from openai import OpenAI\n",
    "\n",
    "client = OpenAI(api_key=ZetaTechs_api_key, base_url=ZetaTechs_api_base)\n",
    "\n",
    "completion = client.chat.completions.create(\n",
    "  model=\"gpt-4o-mini\",\n",
    "  messages=[\n",
    "    {\"role\": \"system\", \"content\": \"You are a helpful assistant.\"},\n",
    "    {\"role\": \"user\", \"content\": \"Hello!\"}\n",
    "  ]\n",
    ")\n",
    "\n",
    "print(completion.choices[0].message)"
   ]
  },
  {
   "cell_type": "code",
   "execution_count": 6,
   "metadata": {},
   "outputs": [],
   "source": [
    "# 读取 CSV 文件并忽略空列，保留“采集时间”和“备注【疑问汇总】”\n",
    "def load_csv(file_path):\n",
    "    df = pd.read_csv(file_path)\n",
    "    # 找到不为空的列名\n",
    "    non_empty_columns = df.columns[df.notna().any()].tolist()\n",
    "    # 加入需要保留的列\n",
    "    required_columns = [\"采集来源\", \"来源链接\", \"采集时间\", \"备注【疑问汇总】\"]\n",
    "    final_columns = [col for col in non_empty_columns if col not in required_columns] + required_columns\n",
    "    # 根据有效列筛选数据，并保留“采集时间”和“备注【疑问汇总】”列\n",
    "    df = df[final_columns]\n",
    "    return df\n",
    "\n",
    "# 自动生成 column_mapping，忽略 \"采集时间\" 和 \"备注【疑问汇总】\"\n",
    "def generate_column_mapping(df):\n",
    "    columns_to_include = df.columns[:-2]  # 忽略最后两列\n",
    "    column_mapping = {col: col for col in columns_to_include}\n",
    "    return column_mapping\n",
    "\n",
    "# 创建大模型的输入\n",
    "def create_model_input(df, column_mapping):\n",
    "    input_data = []\n",
    "    for _, row in df.iterrows():\n",
    "        mapped_input = {column_mapping[key]: row[key] for key in column_mapping}\n",
    "        input_data.append(mapped_input)\n",
    "    return input_data"
   ]
  },
  {
   "cell_type": "code",
   "execution_count": 7,
   "metadata": {},
   "outputs": [
    {
     "name": "stdout",
     "output_type": "stream",
     "text": [
      "Index(['量子计算应用的市场规模（字符型）', '应用场景类型（数字型）', '领域（字符型）', '算法（数字型）', '采集来源',\n",
      "       '来源链接'],\n",
      "      dtype='object')\n"
     ]
    }
   ],
   "source": [
    "# test load_csv() and generate_column_mapping() and create_model_input()\n",
    "file_path = \"25-量子信息 - 潜在应用场景分析报告.csv\"\n",
    "\n",
    "# 第1步：加载 CSV 文件\n",
    "df = load_csv(file_path)\n",
    "\n",
    "df_columns = df.columns[:-2]\n",
    "print(df_columns)\n",
    "\n",
    "# 第2步：自动生成 column_mapping，忽略 \"采集时间\" 和 \"备注【疑问汇总】\"\n",
    "column_mapping = generate_column_mapping(df)\n",
    "# print(\"###\", column_mapping, \"###\")\n",
    "\n",
    "# 第3步：创建大模型输入\n",
    "input_data = create_model_input(df, column_mapping)\n",
    "\n",
    "# print(type(input_data), input_data)\n",
    "\n",
    "# print(len((input_data[0].keys())), input_data[0].keys())"
   ]
  },
  {
   "cell_type": "code",
   "execution_count": 8,
   "metadata": {},
   "outputs": [
    {
     "name": "stdout",
     "output_type": "stream",
     "text": [
      "\n",
      "    You are an expert in data augmentation. You will be provided with a table structure and sample data. \n",
      "    Based on this structure, you need to augment the dataset by generating more entries following the same format. \n",
      "    Focus on consistency and keep the original meaning of the columns intact.\n",
      "    \n",
      "################################\n",
      "Here is the structure of the dataset with sample data:\n",
      "\n",
      "Row 1:\n",
      "  Column: 量子计算应用的市场规模（字符型）, Value: 超过12.1亿美元\n",
      "  Column: 应用场景类型（数字型）, Value: 机器学习\n",
      "  Column: 领域（字符型）, Value: 金融\n",
      "  Column: 算法（数字型）, Value: 1\n",
      "  Column: 采集来源, Value: Research Nester\n",
      "  Column: 来源链接, Value: https://www.researchnester.com/cn/reports/quantum-computing-market/4910\n",
      "\n",
      "Row 2:\n",
      "  Column: 量子计算应用的市场规模（字符型）, Value: 80.47亿元（人民币）\n",
      "  Column: 应用场景类型（数字型）, Value: 优化\n",
      "  Column: 领域（字符型）, Value: 医疗健康\n",
      "  Column: 算法（数字型）, Value: 2\n",
      "  Column: 采集来源, Value: 格隆汇\n",
      "  Column: 来源链接, Value: https://m.gelonghui.com/p/932681\n",
      "\n",
      "Row 3:\n",
      "  Column: 量子计算应用的市场规模（字符型）, Value: 8.854亿美元\n",
      "  Column: 应用场景类型（数字型）, Value: 生物医学模拟\n",
      "  Column: 领域（字符型）, Value: 化工\n",
      "  Column: 算法（数字型）, Value: 3\n",
      "  Column: 采集来源, Value: Fortune Business Insights\n",
      "  Column: 来源链接, Value: https://www.fortunebusinessinsights.com/zh/quantum-computing-market-104855\n",
      "\n",
      "Row 4:\n",
      "  Column: 量子计算应用的市场规模（字符型）, Value: 47亿美元\n",
      "  Column: 应用场景类型（数字型）, Value: 数据分析\n",
      "  Column: 领域（字符型）, Value: 能源与公用事业\n",
      "  Column: 算法（数字型）, Value: 4\n",
      "  Column: 采集来源, Value: ICV\n",
      "  Column: 来源链接, Value: https://pdf.dfcfw.com/pdf/H3_AP202405201633905631_1.pdf\n",
      "\n",
      "Row 5:\n",
      "  Column: 量子计算应用的市场规模（字符型）, Value: 16.5亿美元\n",
      "  Column: 应用场景类型（数字型）, Value: 电子材料发现\n",
      "  Column: 领域（字符型）, Value: 制造业\n",
      "  Column: 算法（数字型）, Value: 5\n",
      "  Column: 采集来源, Value: 行业研究报告\n",
      "  Column: 来源链接, Value: https://example.com/research_report\n",
      "\n",
      "Row 6:\n",
      "  Column: 量子计算应用的市场规模（字符型）, Value: 超过397亿美元\n",
      "  Column: 应用场景类型（数字型）, Value: 量子网络\n",
      "  Column: 领域（字符型）, Value: 政府与国防\n",
      "  Column: 算法（数字型）, Value: 6\n",
      "  Column: 采集来源, Value: 市场分析机构\n",
      "  Column: 来源链接, Value: https://example.com/market_analysis\n",
      "\n",
      "Please generate more data in the same structure and format.\n"
     ]
    }
   ],
   "source": [
    "import openai\n",
    "import pandas as pd\n",
    "\n",
    "def create_system_prompt():\n",
    "    # 动态生成system prompt, 用通用语言描述表格结构\n",
    "    return \"\"\"\n",
    "    You are an expert in data augmentation. You will be provided with a table structure and sample data. \n",
    "    Based on this structure, you need to augment the dataset by generating more entries following the same format. \n",
    "    Focus on consistency and keep the original meaning of the columns intact.\n",
    "    \"\"\"\n",
    "\n",
    "def create_user_prompt(input_data):\n",
    "    # 构建user prompt，将所有input_data中的信息加入提示\n",
    "    prompt = \"Here is the structure of the dataset with sample data:\\n\\n\"\n",
    "    for row_idx, row in enumerate(input_data):\n",
    "        prompt += f\"Row {row_idx + 1}:\\n\"\n",
    "        for col_name, value in row.items():\n",
    "            prompt += f\"  Column: {col_name}, Value: {value}\\n\"\n",
    "        prompt += \"\\n\"  # 每行数据后增加换行，区分不同行\n",
    "    prompt += \"Please generate more data in the same structure and format.\"\n",
    "    return prompt\n",
    "\n",
    "# 创建system_prompt 和 user_prompt\n",
    "system_prompt = create_system_prompt()\n",
    "user_prompt = create_user_prompt(input_data)\n",
    "\n",
    "print(system_prompt)\n",
    "print(\"################################\")\n",
    "print(user_prompt)"
   ]
  },
  {
   "cell_type": "markdown",
   "metadata": {},
   "source": [
    "### 使用 gpt-4o-mini 模型生成数据"
   ]
  },
  {
   "cell_type": "code",
   "execution_count": 9,
   "metadata": {},
   "outputs": [
    {
     "name": "stdout",
     "output_type": "stream",
     "text": [
      "Here are additional rows of augmented data following the same structure and format:\n",
      "\n",
      "Row 7:\n",
      "  Column: 量子计算应用的市场规模（字符型）, Value: 25亿美元\n",
      "  Column: 应用场景类型（数字型）, Value: 量子计算加速\n",
      "  Column: 领域（字符型）, Value: 交通运输\n",
      "  Column: 算法（数字型）, Value: 7\n",
      "  Column: 采集来源, Value: Global Industry Analysts\n",
      "  Column: 来源链接, Value: https://www.globalindustryanalysts.com/quantum-computing-market-report\n",
      "\n",
      "Row 8:\n",
      "  Column: 量子计算应用的市场规模（字符型）, Value: 超过50亿美元\n",
      "  Column: 应用场景类型（数字型）, Value: 智能合约\n",
      "  Column: 领域（字符型）, Value: 法律\n",
      "  Column: 算法（数字型）, Value: 8\n",
      "  Column: 采集来源, Value: Quantum Insights \n",
      "  Column: 来源链接, Value: https://www.quantuminsights.com/reports/quantum-in-legal\n",
      "\n",
      "Row 9:\n",
      "  Column: 量子计算应用的市场规模（字符型）, Value: 10.3亿美元\n",
      "  Column: 应用场景类型（数字型）, Value: 量子模拟\n",
      "  Column: 领域（字符型）, Value: 材料科学\n",
      "  Column: 算法（数字型）, Value: 9\n",
      "  Column: 采集来源, Value: Research and Markets\n",
      "  Column: 来源链接, Value: https://www.researchandmarkets.com/reports/quantum-simulation-market\n",
      "\n",
      "Row 10:\n",
      "  Column: 量子计算应用的市场规模（字符型）, Value: 12.8亿美元\n",
      "  Column: 应用场景类型（数字型）, Value: 密码学\n",
      "  Column: 领域（字符型）, Value: 网络安全\n",
      "  Column: 算法（数字型）, Value: 10\n",
      "  Column: 采集来源, Value: TechCrunch\n",
      "  Column: 来源链接, Value: https://techcrunch.com/quantum-cryptography-market-report\n",
      "\n",
      "Row 11:\n",
      "  Column: 量子计算应用的市场规模（字符型）, Value: 30亿美元\n",
      "  Column: 应用场景类型（数字型）, Value: 电池材料开发\n",
      "  Column: 领域（字符型）, Value: 新能源\n",
      "  Column: 算法（数字型）, Value: 11\n",
      "  Column: 采集来源, Value: Bloomberg\n",
      "  Column: 来源链接, Value: https://www.bloomberg.com/quantum-battery-materials\n",
      "\n",
      "Row 12:\n",
      "  Column: 量子计算应用的市场规模（字符型）, Value: 5.7亿美元\n",
      "  Column: 应用场景类型（数字型）, Value: 投资组合优化\n",
      "  Column: 领域（字符型）, Value: 投资\n",
      "  Column: 算法（数字型）, Value: 12\n",
      "  Column: 采集来源, Value: Market Research Future\n",
      "  Column: 来源链接, Value: https://www.marketresearchfuture.com/reports/quantum-portfolio-optimization\n",
      "\n",
      "These entries maintain the original meaning and format of the columns from the provided dataset while introducing new and varied data points.\n"
     ]
    }
   ],
   "source": [
    "from openai import OpenAI\n",
    "\n",
    "client = OpenAI(api_key=ZetaTechs_api_key, base_url=ZetaTechs_api_base)\n",
    "\n",
    "messages_to_model=[\n",
    "      {\"role\": \"system\", \"content\": system_prompt},\n",
    "      {\"role\": \"user\", \"content\": user_prompt}\n",
    "]\n",
    "\n",
    "completion = client.chat.completions.create(\n",
    "    model=\"gpt-4o-mini\",\n",
    "    messages=messages_to_model,\n",
    ")\n",
    "\n",
    "generated_data = completion.choices[0].message.content\n",
    "print(generated_data)"
   ]
  },
  {
   "cell_type": "markdown",
   "metadata": {},
   "source": [
    "### 使用 gpt-4o-mini-2024-07-18 提取数据（结构化输出）"
   ]
  },
  {
   "cell_type": "code",
   "execution_count": 14,
   "metadata": {},
   "outputs": [],
   "source": [
    "# test1"
   ]
  },
  {
   "cell_type": "code",
   "execution_count": 18,
   "metadata": {},
   "outputs": [],
   "source": [
    "from pydantic import BaseModel, create_model\n",
    "from openai import OpenAI\n",
    "\n",
    "client = OpenAI(api_key=ZetaTechs_api_key, base_url=ZetaTechs_api_base)\n",
    "\n",
    "class Extraction(BaseModel):\n",
    "    column1: list[str]\n",
    "    column2: list[str]\n",
    "    column3: list[str]\n",
    "    column4: list[str]\n",
    "    column5: list[str]\n",
    "    column6: list[str]\n",
    "\n",
    "# 动态生成Extraction类 #################################################\n",
    "# def generate_extraction_model(columns):\n",
    "#     fields = {f'column{i+1}': (list[str], ...) for i in range(len(columns))}\n",
    "#     return create_model('Extraction', **fields)\n",
    "# # 假设 df 是数据框的列名\n",
    "# columns = input_data.columns[:-2]  # 忽略最后两列\n",
    "# Extraction = generate_extraction_model(columns)\n",
    "#######################################################################\n",
    "\n",
    "completion = client.beta.chat.completions.parse(\n",
    "    model=\"gpt-4o-mini-2024-07-18\",\n",
    "    messages=[\n",
    "        {\"role\": \"system\", \"content\": \"You are an expert at structured data extraction. You will be given unstructured text from a research paper and should convert it into the given structure.\"},\n",
    "        {\"role\": \"user\", \"content\": generated_data}\n",
    "    ],\n",
    "    response_format=Extraction,\n",
    ")\n",
    "\n",
    "research_paper = completion.choices[0].message.parsed"
   ]
  },
  {
   "cell_type": "markdown",
   "metadata": {},
   "source": [
    "### 动态Extraction类"
   ]
  },
  {
   "cell_type": "code",
   "execution_count": null,
   "metadata": {},
   "outputs": [],
   "source": [
    "# # 动态Extraction类\n",
    "# import inspect\n",
    "# from pydantic import BaseModel, create_model\n",
    "\n",
    "# input_data = pd.read_csv(\"25-量子信息 - 潜在应用场景分析报告.csv\")\n",
    "# print(len(input_data.columns))\n",
    "\n",
    "# # 动态生成Extraction类\n",
    "# def generate_extraction_model(columns):\n",
    "#     fields = {f'column{i+1}': (list[str], ...) for i in range(len(columns))}\n",
    "#     return create_model('Extraction', **fields)\n",
    "\n",
    "# # 假设 df 是数据框的列名\n",
    "# columns = input_data.columns[:-2]  # 忽略最后两列\n",
    "# Extraction = generate_extraction_model(columns)\n",
    "\n",
    "# # 查看 Extraction 类的内部结构\n",
    "# print(\"Extraction 类的结构:\")\n",
    "# for field_name, field_type in Extraction.__annotations__.items():\n",
    "#     print(f\"{field_name}: {field_type}\")"
   ]
  },
  {
   "cell_type": "code",
   "execution_count": null,
   "metadata": {},
   "outputs": [],
   "source": [
    "# test\n",
    "print(type(research_paper), \"\\n\\n\", research_paper, \"\\n\\n\", research_paper.column1)"
   ]
  },
  {
   "cell_type": "markdown",
   "metadata": {},
   "source": [
    "### 合并生成数据与现有数据"
   ]
  },
  {
   "cell_type": "code",
   "execution_count": 19,
   "metadata": {},
   "outputs": [
    {
     "name": "stdout",
     "output_type": "stream",
     "text": [
      "['量子计算应用的市场规模（字符型）', '应用场景类型（数字型）', '领域（字符型）', '算法（数字型）', '采集来源', '来源链接', '采集时间']\n"
     ]
    },
    {
     "data": {
      "text/html": [
       "<div>\n",
       "<style scoped>\n",
       "    .dataframe tbody tr th:only-of-type {\n",
       "        vertical-align: middle;\n",
       "    }\n",
       "\n",
       "    .dataframe tbody tr th {\n",
       "        vertical-align: top;\n",
       "    }\n",
       "\n",
       "    .dataframe thead th {\n",
       "        text-align: right;\n",
       "    }\n",
       "</style>\n",
       "<table border=\"1\" class=\"dataframe\">\n",
       "  <thead>\n",
       "    <tr style=\"text-align: right;\">\n",
       "      <th></th>\n",
       "      <th>量子计算应用的市场规模（字符型）</th>\n",
       "      <th>应用场景类型（数字型）</th>\n",
       "      <th>领域（字符型）</th>\n",
       "      <th>算法（数字型）</th>\n",
       "      <th>采集来源</th>\n",
       "      <th>来源链接</th>\n",
       "      <th>采集时间</th>\n",
       "      <th>备注【疑问汇总】</th>\n",
       "    </tr>\n",
       "  </thead>\n",
       "  <tbody>\n",
       "    <tr>\n",
       "      <th>0</th>\n",
       "      <td>超过12.1亿美元</td>\n",
       "      <td>机器学习</td>\n",
       "      <td>金融</td>\n",
       "      <td>1</td>\n",
       "      <td>Research Nester</td>\n",
       "      <td>https://www.researchnester.com/cn/reports/quan...</td>\n",
       "      <td>2024-10-12</td>\n",
       "      <td>NaN</td>\n",
       "    </tr>\n",
       "    <tr>\n",
       "      <th>1</th>\n",
       "      <td>80.47亿元（人民币）</td>\n",
       "      <td>优化</td>\n",
       "      <td>医疗健康</td>\n",
       "      <td>2</td>\n",
       "      <td>格隆汇</td>\n",
       "      <td>https://m.gelonghui.com/p/932681</td>\n",
       "      <td>2024-10-12</td>\n",
       "      <td>NaN</td>\n",
       "    </tr>\n",
       "    <tr>\n",
       "      <th>2</th>\n",
       "      <td>8.854亿美元</td>\n",
       "      <td>生物医学模拟</td>\n",
       "      <td>化工</td>\n",
       "      <td>3</td>\n",
       "      <td>Fortune Business Insights</td>\n",
       "      <td>https://www.fortunebusinessinsights.com/zh/qua...</td>\n",
       "      <td>2024-10-12</td>\n",
       "      <td>NaN</td>\n",
       "    </tr>\n",
       "    <tr>\n",
       "      <th>3</th>\n",
       "      <td>47亿美元</td>\n",
       "      <td>数据分析</td>\n",
       "      <td>能源与公用事业</td>\n",
       "      <td>4</td>\n",
       "      <td>ICV</td>\n",
       "      <td>https://pdf.dfcfw.com/pdf/H3_AP202405201633905...</td>\n",
       "      <td>2024-10-12</td>\n",
       "      <td>NaN</td>\n",
       "    </tr>\n",
       "    <tr>\n",
       "      <th>4</th>\n",
       "      <td>16.5亿美元</td>\n",
       "      <td>电子材料发现</td>\n",
       "      <td>制造业</td>\n",
       "      <td>5</td>\n",
       "      <td>行业研究报告</td>\n",
       "      <td>https://example.com/research_report</td>\n",
       "      <td>2024-10-12</td>\n",
       "      <td>NaN</td>\n",
       "    </tr>\n",
       "  </tbody>\n",
       "</table>\n",
       "</div>"
      ],
      "text/plain": [
       "  量子计算应用的市场规模（字符型） 应用场景类型（数字型）  领域（字符型）  算法（数字型）                       采集来源  \\\n",
       "0        超过12.1亿美元        机器学习       金融        1            Research Nester   \n",
       "1     80.47亿元（人民币）          优化     医疗健康        2                        格隆汇   \n",
       "2         8.854亿美元      生物医学模拟       化工        3  Fortune Business Insights   \n",
       "3            47亿美元        数据分析  能源与公用事业        4                        ICV   \n",
       "4          16.5亿美元      电子材料发现      制造业        5                     行业研究报告   \n",
       "\n",
       "                                                来源链接        采集时间  备注【疑问汇总】  \n",
       "0  https://www.researchnester.com/cn/reports/quan...  2024-10-12       NaN  \n",
       "1                   https://m.gelonghui.com/p/932681  2024-10-12       NaN  \n",
       "2  https://www.fortunebusinessinsights.com/zh/qua...  2024-10-12       NaN  \n",
       "3  https://pdf.dfcfw.com/pdf/H3_AP202405201633905...  2024-10-12       NaN  \n",
       "4                https://example.com/research_report  2024-10-12       NaN  "
      ]
     },
     "execution_count": 19,
     "metadata": {},
     "output_type": "execute_result"
    }
   ],
   "source": [
    "import pandas as pd\n",
    "\n",
    "# 假设 input_data 是原始 CSV 文件读取的数据框\n",
    "# 加载已有数据的CSV文件\n",
    "input_data = pd.read_csv('25-量子信息 - 潜在应用场景分析报告.csv')\n",
    "\n",
    "# 找到不为空的列名\n",
    "non_empty_columns = input_data.columns[input_data.notna().any()].tolist()\n",
    "# 加入需要保留的列\n",
    "required_columns = [\"采集来源\", \"来源链接\", \"采集时间\", \"备注【疑问汇总】\"]\n",
    "final_columns = [col for col in non_empty_columns if col not in required_columns] + required_columns\n",
    "# 根据有效列筛选数据，并保留“采集时间”和“备注【疑问汇总】”列\n",
    "input_data = input_data[final_columns]\n",
    "\n",
    "print(non_empty_columns)\n",
    "input_data.head(5)"
   ]
  },
  {
   "cell_type": "code",
   "execution_count": 20,
   "metadata": {},
   "outputs": [
    {
     "name": "stdout",
     "output_type": "stream",
     "text": [
      "['23.6亿美元', '量子通信', '航空航天', '7', 'Research and Markets', 'https://www.researchandmarkets.com/reports/quantum-communications-market']\n",
      "8\n",
      "['50亿元（人民币）', '财务建模', '企业管理', '8', '产业研究网', 'https://www.chinaindustryresearch.com/finance-modeling']\n",
      "8\n",
      "['超过30亿美元', '量子密码学', '信息安全', '9', 'MarketsandMarkets', 'https://www.marketsandmarkets.com/quantum-cryptography-market']\n",
      "8\n",
      "['95亿美元', '量子模拟', '材料科学', '10', 'Grand View Research', 'https://www.grandviewresearch.com/industry-analysis/quantum-simulation-market']\n",
      "8\n",
      "['12.3亿美元', '风险分析', '保险', '11', 'Research Nester', 'https://www.researchnester.com/reports/risk-analysis-quantum-computing']\n",
      "8\n",
      "['89.5亿元（人民币）', '供应链优化', '物流', '12', 'Qianzhan Industry Research Institute', 'https://www.qianzhan.com/research/logistics-supply-chain']\n",
      "8\n"
     ]
    }
   ],
   "source": [
    "# 确定生成的列数与input_data的一致性\n",
    "num_columns = len(input_data.columns) - 2  # 原始数据的列数 - 2（采集时间 和 备注【疑问汇总】）\n",
    "\n",
    "# 遍历生成的数据，逐行添加到原始数据框\n",
    "for i in range(len(research_paper.column1)):  # 这里我们使用column1的长度为循环范围\n",
    "    # 生成的数据\n",
    "    new_row = [\n",
    "        research_paper.column1[i],  # 第1列的数据\n",
    "        research_paper.column2[i],  # 第2列的数据\n",
    "        research_paper.column3[i],  # 第3列的数据\n",
    "        research_paper.column4[i],  # 第4列的数据\n",
    "        research_paper.column5[i],  # 第5列的数据\n",
    "        research_paper.column6[i],  # 第6列的数据\n",
    "    ]\n",
    "    print(new_row)\n",
    "    # 用None填充“采集时间”和“备注【疑问汇总】”\n",
    "    while len(new_row) < num_columns+2:\n",
    "        new_row.append(None)\n",
    "    print(len(new_row))\n",
    "    # 将新行添加到原数据框中\n",
    "    input_data.loc[len(input_data)] = new_row\n",
    "\n",
    "# 保存更新后的数据框\n",
    "input_data.to_csv('更新后的数据.csv', index=False)"
   ]
  },
  {
   "cell_type": "code",
   "execution_count": 22,
   "metadata": {},
   "outputs": [
    {
     "data": {
      "text/plain": [
       "'23.6亿美元'"
      ]
     },
     "execution_count": 22,
     "metadata": {},
     "output_type": "execute_result"
    }
   ],
   "source": [
    "research_paper.column1[0]"
   ]
  },
  {
   "cell_type": "code",
   "execution_count": 27,
   "metadata": {},
   "outputs": [
    {
     "data": {
      "text/plain": [
       "(list, ['23.6亿美元', '50亿元（人民币）', '超过30亿美元', '95亿美元', '12.3亿美元', '89.5亿元（人民币）'])"
      ]
     },
     "execution_count": 27,
     "metadata": {},
     "output_type": "execute_result"
    }
   ],
   "source": [
    "type(research_paper.column1), research_paper.column1"
   ]
  },
  {
   "cell_type": "code",
   "execution_count": 26,
   "metadata": {},
   "outputs": [
    {
     "data": {
      "text/plain": [
       "(__main__.Extraction,\n",
       " Extraction(column1=['23.6亿美元', '50亿元（人民币）', '超过30亿美元', '95亿美元', '12.3亿美元', '89.5亿元（人民币）'], column2=['量子通信', '财务建模', '量子密码学', '量子模拟', '风险分析', '供应链优化'], column3=['航空航天', '企业管理', '信息安全', '材料科学', '保险', '物流'], column4=['7', '8', '9', '10', '11', '12'], column5=['Research and Markets', '产业研究网', 'MarketsandMarkets', 'Grand View Research', 'Research Nester', 'Qianzhan Industry Research Institute'], column6=['https://www.researchandmarkets.com/reports/quantum-communications-market', 'https://www.chinaindustryresearch.com/finance-modeling', 'https://www.marketsandmarkets.com/quantum-cryptography-market', 'https://www.grandviewresearch.com/industry-analysis/quantum-simulation-market', 'https://www.researchnester.com/reports/risk-analysis-quantum-computing', 'https://www.qianzhan.com/research/logistics-supply-chain']))"
      ]
     },
     "execution_count": 26,
     "metadata": {},
     "output_type": "execute_result"
    }
   ],
   "source": [
    "type(research_paper), research_paper"
   ]
  },
  {
   "cell_type": "code",
   "execution_count": 34,
   "metadata": {},
   "outputs": [
    {
     "name": "stdout",
     "output_type": "stream",
     "text": [
      "('column1', ['23.6亿美元', '50亿元（人民币）', '超过30亿美元', '95亿美元', '12.3亿美元', '89.5亿元（人民币）'])\n",
      "<class 'tuple'>\n",
      "['23.6亿美元', '50亿元（人民币）', '超过30亿美元', '95亿美元', '12.3亿美元', '89.5亿元（人民币）']\n",
      "<class 'list'>\n",
      "('column2', ['量子通信', '财务建模', '量子密码学', '量子模拟', '风险分析', '供应链优化'])\n",
      "<class 'tuple'>\n",
      "['量子通信', '财务建模', '量子密码学', '量子模拟', '风险分析', '供应链优化']\n",
      "<class 'list'>\n",
      "('column3', ['航空航天', '企业管理', '信息安全', '材料科学', '保险', '物流'])\n",
      "<class 'tuple'>\n",
      "['航空航天', '企业管理', '信息安全', '材料科学', '保险', '物流']\n",
      "<class 'list'>\n",
      "('column4', ['7', '8', '9', '10', '11', '12'])\n",
      "<class 'tuple'>\n",
      "['7', '8', '9', '10', '11', '12']\n",
      "<class 'list'>\n",
      "('column5', ['Research and Markets', '产业研究网', 'MarketsandMarkets', 'Grand View Research', 'Research Nester', 'Qianzhan Industry Research Institute'])\n",
      "<class 'tuple'>\n",
      "['Research and Markets', '产业研究网', 'MarketsandMarkets', 'Grand View Research', 'Research Nester', 'Qianzhan Industry Research Institute']\n",
      "<class 'list'>\n",
      "('column6', ['https://www.researchandmarkets.com/reports/quantum-communications-market', 'https://www.chinaindustryresearch.com/finance-modeling', 'https://www.marketsandmarkets.com/quantum-cryptography-market', 'https://www.grandviewresearch.com/industry-analysis/quantum-simulation-market', 'https://www.researchnester.com/reports/risk-analysis-quantum-computing', 'https://www.qianzhan.com/research/logistics-supply-chain'])\n",
      "<class 'tuple'>\n",
      "['https://www.researchandmarkets.com/reports/quantum-communications-market', 'https://www.chinaindustryresearch.com/finance-modeling', 'https://www.marketsandmarkets.com/quantum-cryptography-market', 'https://www.grandviewresearch.com/industry-analysis/quantum-simulation-market', 'https://www.researchnester.com/reports/risk-analysis-quantum-computing', 'https://www.qianzhan.com/research/logistics-supply-chain']\n",
      "<class 'list'>\n"
     ]
    }
   ],
   "source": [
    "for col in research_paper:\n",
    "    print(col)\n",
    "    print(type(col))\n",
    "    print(col[1])\n",
    "    print(type(col[1]))\n"
   ]
  },
  {
   "cell_type": "code",
   "execution_count": 36,
   "metadata": {},
   "outputs": [],
   "source": [
    "def extracted_data_to_df(extracted_generated_data):\n",
    "    # 初始化一个空字典，用于存储列名和对应的列数据\n",
    "    data_dict = {}\n",
    "    \n",
    "    # 遍历 extracted_generated_data，每个元素是一个 (列名, 列数据) 的元组\n",
    "    for col_name, col_data in extracted_generated_data:\n",
    "        # 将列名和对应的列数据添加到字典中\n",
    "        data_dict[col_name] = col_data\n",
    "    \n",
    "    # 将字典转化为 DataFrame\n",
    "    df = pd.DataFrame(data_dict)\n",
    "\n",
    "    return df\n"
   ]
  },
  {
   "cell_type": "code",
   "execution_count": 37,
   "metadata": {},
   "outputs": [
    {
     "data": {
      "text/html": [
       "<div>\n",
       "<style scoped>\n",
       "    .dataframe tbody tr th:only-of-type {\n",
       "        vertical-align: middle;\n",
       "    }\n",
       "\n",
       "    .dataframe tbody tr th {\n",
       "        vertical-align: top;\n",
       "    }\n",
       "\n",
       "    .dataframe thead th {\n",
       "        text-align: right;\n",
       "    }\n",
       "</style>\n",
       "<table border=\"1\" class=\"dataframe\">\n",
       "  <thead>\n",
       "    <tr style=\"text-align: right;\">\n",
       "      <th></th>\n",
       "      <th>column1</th>\n",
       "      <th>column2</th>\n",
       "      <th>column3</th>\n",
       "      <th>column4</th>\n",
       "      <th>column5</th>\n",
       "      <th>column6</th>\n",
       "    </tr>\n",
       "  </thead>\n",
       "  <tbody>\n",
       "    <tr>\n",
       "      <th>0</th>\n",
       "      <td>23.6亿美元</td>\n",
       "      <td>量子通信</td>\n",
       "      <td>航空航天</td>\n",
       "      <td>7</td>\n",
       "      <td>Research and Markets</td>\n",
       "      <td>https://www.researchandmarkets.com/reports/qua...</td>\n",
       "    </tr>\n",
       "    <tr>\n",
       "      <th>1</th>\n",
       "      <td>50亿元（人民币）</td>\n",
       "      <td>财务建模</td>\n",
       "      <td>企业管理</td>\n",
       "      <td>8</td>\n",
       "      <td>产业研究网</td>\n",
       "      <td>https://www.chinaindustryresearch.com/finance-...</td>\n",
       "    </tr>\n",
       "    <tr>\n",
       "      <th>2</th>\n",
       "      <td>超过30亿美元</td>\n",
       "      <td>量子密码学</td>\n",
       "      <td>信息安全</td>\n",
       "      <td>9</td>\n",
       "      <td>MarketsandMarkets</td>\n",
       "      <td>https://www.marketsandmarkets.com/quantum-cryp...</td>\n",
       "    </tr>\n",
       "    <tr>\n",
       "      <th>3</th>\n",
       "      <td>95亿美元</td>\n",
       "      <td>量子模拟</td>\n",
       "      <td>材料科学</td>\n",
       "      <td>10</td>\n",
       "      <td>Grand View Research</td>\n",
       "      <td>https://www.grandviewresearch.com/industry-ana...</td>\n",
       "    </tr>\n",
       "    <tr>\n",
       "      <th>4</th>\n",
       "      <td>12.3亿美元</td>\n",
       "      <td>风险分析</td>\n",
       "      <td>保险</td>\n",
       "      <td>11</td>\n",
       "      <td>Research Nester</td>\n",
       "      <td>https://www.researchnester.com/reports/risk-an...</td>\n",
       "    </tr>\n",
       "  </tbody>\n",
       "</table>\n",
       "</div>"
      ],
      "text/plain": [
       "     column1 column2 column3 column4               column5  \\\n",
       "0    23.6亿美元    量子通信    航空航天       7  Research and Markets   \n",
       "1  50亿元（人民币）    财务建模    企业管理       8                 产业研究网   \n",
       "2    超过30亿美元   量子密码学    信息安全       9     MarketsandMarkets   \n",
       "3      95亿美元    量子模拟    材料科学      10   Grand View Research   \n",
       "4    12.3亿美元    风险分析      保险      11       Research Nester   \n",
       "\n",
       "                                             column6  \n",
       "0  https://www.researchandmarkets.com/reports/qua...  \n",
       "1  https://www.chinaindustryresearch.com/finance-...  \n",
       "2  https://www.marketsandmarkets.com/quantum-cryp...  \n",
       "3  https://www.grandviewresearch.com/industry-ana...  \n",
       "4  https://www.researchnester.com/reports/risk-an...  "
      ]
     },
     "execution_count": 37,
     "metadata": {},
     "output_type": "execute_result"
    }
   ],
   "source": [
    "df = extracted_data_to_df(research_paper)\n",
    "df.head()"
   ]
  },
  {
   "cell_type": "code",
   "execution_count": 38,
   "metadata": {},
   "outputs": [
    {
     "data": {
      "text/plain": [
       "Index(['column1', 'column2', 'column3', 'column4'], dtype='object')"
      ]
     },
     "execution_count": 38,
     "metadata": {},
     "output_type": "execute_result"
    }
   ],
   "source": [
    "df_columns = df.columns[:-2]\n",
    "df_columns"
   ]
  },
  {
   "cell_type": "code",
   "execution_count": null,
   "metadata": {},
   "outputs": [],
   "source": []
  }
 ],
 "metadata": {
  "kernelspec": {
   "display_name": "Python 3",
   "language": "python",
   "name": "python3"
  },
  "language_info": {
   "codemirror_mode": {
    "name": "ipython",
    "version": 3
   },
   "file_extension": ".py",
   "mimetype": "text/x-python",
   "name": "python",
   "nbconvert_exporter": "python",
   "pygments_lexer": "ipython3",
   "version": "3.12.7"
  }
 },
 "nbformat": 4,
 "nbformat_minor": 2
}
